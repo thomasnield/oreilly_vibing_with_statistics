{
 "cells": [
  {
   "cell_type": "code",
   "id": "initial_id",
   "metadata": {
    "collapsed": true,
    "ExecuteTime": {
     "end_time": "2025-08-28T23:20:21.100906Z",
     "start_time": "2025-08-28T23:20:21.093495Z"
    }
   },
   "source": [
    "from math import sqrt\n",
    "from scipy.stats import norm\n",
    "\n",
    "LEFT_TAIL, RIGHT_TAIL, TWO_TAIL = 0, 1, 2\n",
    "\n",
    "# MODIFY PARAMETERS IN THIS BOX\n",
    "# ==============================\n",
    "mu = 355.0 # Alleged population mean\n",
    "n = 40  # Sample size\n",
    "x_bar = 353  # Sample mean\n",
    "s = 6 # Sample standard deviation\n",
    "alpha = 0.05  # Significance level, .95 level of confidence\n",
    "tail_type = LEFT_TAIL\n",
    "# ==============================\n",
    "\n",
    "# Calculate z-statistic\n",
    "z_stat = (x_bar - mu) / (s / sqrt(n))\n",
    "\n",
    "# Calculate p-value and critical value\n",
    "if tail_type == TWO_TAIL:\n",
    "    p_value = 2*norm.cdf(-abs(z_stat))\n",
    "\n",
    "elif tail_type == LEFT_TAIL:\n",
    "    p_value = norm.cdf(z_stat)\n",
    "\n",
    "elif tail_type == RIGHT_TAIL:\n",
    "    p_value = 1 - norm.cdf(z_stat)\n",
    "\n",
    "else:\n",
    "     raise ValueError(\"Invalid tail type. Choose from LEFT_TAIL, RIGHT_TAIL, or TWO_TAIL.\")\n",
    "\n",
    "# Output results\n",
    "if tail_type == LEFT_TAIL:  #G\n",
    "    print(f\"LEFT TAIL TEST\")  #G\n",
    "elif tail_type == RIGHT_TAIL:  #G\n",
    "    print(f\"RIGHT TAIL TEST\")  #G\n",
    "elif tail_type == TWO_TAIL:  #G\n",
    "    print(f\"TWO-TAIL TEST\")  #G\n",
    "\n",
    "\n",
    "print(\"Sample mean: \", x_bar)  #G\n",
    "print(\"Sample standard deviation: \", s)  #G\n",
    "print(\"Sample size: \", n)  #G\n",
    "print(\"Level of confidence: \", 1 - alpha)  #G\n",
    "print(\"Level of significance: \", alpha)  #G\n",
    "print(f\"z-statistic: {z_stat:.4f}\")  #G\n",
    "print(f\"p-value: {p_value:.4f}\")\n",
    "\n",
    "# Decision based on p-value\n",
    "if p_value < alpha:\n",
    "    print(f\"Reject the null hypothesis at alpha = {alpha}. There is evidence to support the alternative hypothesis.\")\n",
    "else:\n",
    "    print(f\"Fail to reject the null hypothesis at alpha = {alpha}. There is not enough evidence to support the alternative hypothesis.\")"
   ],
   "outputs": [
    {
     "name": "stdout",
     "output_type": "stream",
     "text": [
      "LEFT TAIL TEST\n",
      "Sample mean:  353\n",
      "Sample standard deviation:  6\n",
      "Sample size:  40\n",
      "Level of confidence:  0.95\n",
      "Level of significance:  0.05\n",
      "z-statistic: -2.1082\n",
      "p-value: 0.0175\n",
      "Reject the null hypothesis at alpha = 0.05. There is evidence to support the alternative hypothesis.\n"
     ]
    }
   ],
   "execution_count": 3
  }
 ],
 "metadata": {
  "kernelspec": {
   "display_name": "Python 3",
   "language": "python",
   "name": "python3"
  },
  "language_info": {
   "codemirror_mode": {
    "name": "ipython",
    "version": 2
   },
   "file_extension": ".py",
   "mimetype": "text/x-python",
   "name": "python",
   "nbconvert_exporter": "python",
   "pygments_lexer": "ipython2",
   "version": "2.7.6"
  }
 },
 "nbformat": 4,
 "nbformat_minor": 5
}
